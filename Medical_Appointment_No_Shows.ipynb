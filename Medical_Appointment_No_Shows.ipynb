{
  "nbformat": 4,
  "nbformat_minor": 0,
  "metadata": {
    "colab": {
      "name": "Medical Appointment No Shows.ipynb",
      "provenance": [],
      "collapsed_sections": []
    },
    "kernelspec": {
      "name": "python3",
      "display_name": "Python 3"
    },
    "language_info": {
      "name": "python"
    },
    "accelerator": "TPU"
  },
  "cells": [
    {
      "cell_type": "markdown",
      "metadata": {
        "id": "R6U9E4_C8Jny"
      },
      "source": [
        "#                       **Medical Appointment No Shows Project (EDA)**\n",
        "\n",
        "\n",
        "---"
      ]
    },
    {
      "cell_type": "markdown",
      "metadata": {
        "id": "PzZH16nPSa96"
      },
      "source": [
        "## Part 1"
      ]
    },
    {
      "cell_type": "markdown",
      "metadata": {
        "id": "eGtzf0R6AiU0"
      },
      "source": [
        "###**Overview**\n",
        "\n",
        "\n",
        "\n",
        "\n",
        "In this project, I am using a dataset called **Medical Appointment No Shows** \n",
        "which was collected from Kaggle website through this link:\n",
        "https://www.kaggle.com/joniarroba/noshowappointments\n",
        "\n",
        "The dataset is basically about the reason that prevents a patient from attending an appointment. the target value in this dataset is initially (\"No-show\") I will try to answer all questions that come to my mind such as:\n",
        "\n",
        "\n",
        "*   What are feature/s that affect most on attending the appointment?\n",
        "*   Does the difference time between the Scheduled Day feature and Appointment Day feature matter?\n",
        "*   Does Gender contribute to the game?\n",
        "\n",
        "\n",
        "\n",
        "###**Data Features details**\n",
        "\n",
        "\n",
        " 1. **PatientId**: Identification of a patient\n",
        "\n",
        " 2. **AppointmentID**: Identification of each appointment\n",
        "\n",
        " 3. **Gender**: Male or Female. Female is the greater proportion, women take way more care of their health in comparison to men.\n",
        "\n",
        " 4. **ScheduledDay**: The day someone called or registered the appointment, this is before the appointment of course.\n",
        "The day of the actual appointment, when they have to visit the doctor.\n",
        "\n",
        "\n",
        " 5. **AppointmentDay**: \n",
        "The day of the actual appointment, when they have to visit the doctor.\n",
        "\n",
        "\n",
        "\n",
        " 6. **Age**: How old is the patient.\n",
        "\n",
        " 7. **Neighbourhood**: Where the appointment takes place.\n",
        "\n",
        " 8. **Scholarship**: True or False. Observation, this is a broad topic, consider reading this article https://en.wikipedia.org/wiki/Bolsa_Fam%C3%ADlia (Brazilian educational and medical scholarship)\n",
        "\n",
        "9. **Hypertension**: True or False. Has high pressure?\n",
        "\n",
        "10. **Diabetes**: True or False.\n",
        "\n",
        "11. **Alcoholism**: True or False.\n",
        "\n",
        "11. **Handicap**: True or False.\n",
        "\n",
        "12. **SMS_received**: 1 or more messages sent to the patient.\n",
        "\n",
        "13. **No-show**: True or False. The target value which if we decide to model\n",
        "\n",
        "***Quick note:***\n",
        "\n",
        "The dataset timeline starts from the 10th of November 2015 to the 23rd of June 2016.\n",
        "\n",
        "\n",
        "---\n",
        "\n"
      ]
    },
    {
      "cell_type": "markdown",
      "metadata": {
        "id": "ElZZdqPpT5wJ"
      },
      "source": [
        "##Part 2 \n",
        "\n"
      ]
    },
    {
      "cell_type": "markdown",
      "metadata": {
        "id": "am2N4QR0U8Ly"
      },
      "source": [
        "###**Loading and Exploring the dataset**"
      ]
    },
    {
      "cell_type": "code",
      "metadata": {
        "id": "4EcBy3UcxaIl"
      },
      "source": [
        "import pandas as pd\n",
        "import matplotlib as plt\n",
        "import numpy as np\n",
        "import seaborn as sns\n",
        "pd.set_option(\"display.max_columns\", None)\n",
        "pd.set_option(\"display.max_rows\", None)\n",
        "import datetime\n",
        "from time import strftime\n",
        "import matplotlib.pyplot as plt\n",
        "%matplotlib inline\n",
        "from matplotlib import pylab\n",
        "sns.set_style(\"whitegrid\")"
      ],
      "execution_count": 318,
      "outputs": []
    },
    {
      "cell_type": "code",
      "metadata": {
        "id": "IEEVJZyK1gsG"
      },
      "source": [
        "df = pd.read_csv('/content/KaggleV2-May-2016.csv')"
      ],
      "execution_count": 319,
      "outputs": []
    },
    {
      "cell_type": "code",
      "metadata": {
        "colab": {
          "base_uri": "https://localhost:8080/",
          "height": 359
        },
        "id": "h82mu7GBA0tS",
        "outputId": "db185039-dee9-494c-d0c4-7ae7edc1565e"
      },
      "source": [
        "df.head(10)"
      ],
      "execution_count": 320,
      "outputs": [
        {
          "output_type": "execute_result",
          "data": {
            "text/html": [
              "<div>\n",
              "<style scoped>\n",
              "    .dataframe tbody tr th:only-of-type {\n",
              "        vertical-align: middle;\n",
              "    }\n",
              "\n",
              "    .dataframe tbody tr th {\n",
              "        vertical-align: top;\n",
              "    }\n",
              "\n",
              "    .dataframe thead th {\n",
              "        text-align: right;\n",
              "    }\n",
              "</style>\n",
              "<table border=\"1\" class=\"dataframe\">\n",
              "  <thead>\n",
              "    <tr style=\"text-align: right;\">\n",
              "      <th></th>\n",
              "      <th>PatientId</th>\n",
              "      <th>AppointmentID</th>\n",
              "      <th>Gender</th>\n",
              "      <th>ScheduledDay</th>\n",
              "      <th>AppointmentDay</th>\n",
              "      <th>Age</th>\n",
              "      <th>Neighbourhood</th>\n",
              "      <th>Scholarship</th>\n",
              "      <th>Hipertension</th>\n",
              "      <th>Diabetes</th>\n",
              "      <th>Alcoholism</th>\n",
              "      <th>Handcap</th>\n",
              "      <th>SMS_received</th>\n",
              "      <th>No-show</th>\n",
              "    </tr>\n",
              "  </thead>\n",
              "  <tbody>\n",
              "    <tr>\n",
              "      <th>0</th>\n",
              "      <td>2.987250e+13</td>\n",
              "      <td>5642903</td>\n",
              "      <td>F</td>\n",
              "      <td>2016-04-29T18:38:08Z</td>\n",
              "      <td>2016-04-29T00:00:00Z</td>\n",
              "      <td>62</td>\n",
              "      <td>JARDIM DA PENHA</td>\n",
              "      <td>0</td>\n",
              "      <td>1</td>\n",
              "      <td>0</td>\n",
              "      <td>0</td>\n",
              "      <td>0</td>\n",
              "      <td>0</td>\n",
              "      <td>No</td>\n",
              "    </tr>\n",
              "    <tr>\n",
              "      <th>1</th>\n",
              "      <td>5.589978e+14</td>\n",
              "      <td>5642503</td>\n",
              "      <td>M</td>\n",
              "      <td>2016-04-29T16:08:27Z</td>\n",
              "      <td>2016-04-29T00:00:00Z</td>\n",
              "      <td>56</td>\n",
              "      <td>JARDIM DA PENHA</td>\n",
              "      <td>0</td>\n",
              "      <td>0</td>\n",
              "      <td>0</td>\n",
              "      <td>0</td>\n",
              "      <td>0</td>\n",
              "      <td>0</td>\n",
              "      <td>No</td>\n",
              "    </tr>\n",
              "    <tr>\n",
              "      <th>2</th>\n",
              "      <td>4.262962e+12</td>\n",
              "      <td>5642549</td>\n",
              "      <td>F</td>\n",
              "      <td>2016-04-29T16:19:04Z</td>\n",
              "      <td>2016-04-29T00:00:00Z</td>\n",
              "      <td>62</td>\n",
              "      <td>MATA DA PRAIA</td>\n",
              "      <td>0</td>\n",
              "      <td>0</td>\n",
              "      <td>0</td>\n",
              "      <td>0</td>\n",
              "      <td>0</td>\n",
              "      <td>0</td>\n",
              "      <td>No</td>\n",
              "    </tr>\n",
              "    <tr>\n",
              "      <th>3</th>\n",
              "      <td>8.679512e+11</td>\n",
              "      <td>5642828</td>\n",
              "      <td>F</td>\n",
              "      <td>2016-04-29T17:29:31Z</td>\n",
              "      <td>2016-04-29T00:00:00Z</td>\n",
              "      <td>8</td>\n",
              "      <td>PONTAL DE CAMBURI</td>\n",
              "      <td>0</td>\n",
              "      <td>0</td>\n",
              "      <td>0</td>\n",
              "      <td>0</td>\n",
              "      <td>0</td>\n",
              "      <td>0</td>\n",
              "      <td>No</td>\n",
              "    </tr>\n",
              "    <tr>\n",
              "      <th>4</th>\n",
              "      <td>8.841186e+12</td>\n",
              "      <td>5642494</td>\n",
              "      <td>F</td>\n",
              "      <td>2016-04-29T16:07:23Z</td>\n",
              "      <td>2016-04-29T00:00:00Z</td>\n",
              "      <td>56</td>\n",
              "      <td>JARDIM DA PENHA</td>\n",
              "      <td>0</td>\n",
              "      <td>1</td>\n",
              "      <td>1</td>\n",
              "      <td>0</td>\n",
              "      <td>0</td>\n",
              "      <td>0</td>\n",
              "      <td>No</td>\n",
              "    </tr>\n",
              "    <tr>\n",
              "      <th>5</th>\n",
              "      <td>9.598513e+13</td>\n",
              "      <td>5626772</td>\n",
              "      <td>F</td>\n",
              "      <td>2016-04-27T08:36:51Z</td>\n",
              "      <td>2016-04-29T00:00:00Z</td>\n",
              "      <td>76</td>\n",
              "      <td>REPÚBLICA</td>\n",
              "      <td>0</td>\n",
              "      <td>1</td>\n",
              "      <td>0</td>\n",
              "      <td>0</td>\n",
              "      <td>0</td>\n",
              "      <td>0</td>\n",
              "      <td>No</td>\n",
              "    </tr>\n",
              "    <tr>\n",
              "      <th>6</th>\n",
              "      <td>7.336882e+14</td>\n",
              "      <td>5630279</td>\n",
              "      <td>F</td>\n",
              "      <td>2016-04-27T15:05:12Z</td>\n",
              "      <td>2016-04-29T00:00:00Z</td>\n",
              "      <td>23</td>\n",
              "      <td>GOIABEIRAS</td>\n",
              "      <td>0</td>\n",
              "      <td>0</td>\n",
              "      <td>0</td>\n",
              "      <td>0</td>\n",
              "      <td>0</td>\n",
              "      <td>0</td>\n",
              "      <td>Yes</td>\n",
              "    </tr>\n",
              "    <tr>\n",
              "      <th>7</th>\n",
              "      <td>3.449833e+12</td>\n",
              "      <td>5630575</td>\n",
              "      <td>F</td>\n",
              "      <td>2016-04-27T15:39:58Z</td>\n",
              "      <td>2016-04-29T00:00:00Z</td>\n",
              "      <td>39</td>\n",
              "      <td>GOIABEIRAS</td>\n",
              "      <td>0</td>\n",
              "      <td>0</td>\n",
              "      <td>0</td>\n",
              "      <td>0</td>\n",
              "      <td>0</td>\n",
              "      <td>0</td>\n",
              "      <td>Yes</td>\n",
              "    </tr>\n",
              "    <tr>\n",
              "      <th>8</th>\n",
              "      <td>5.639473e+13</td>\n",
              "      <td>5638447</td>\n",
              "      <td>F</td>\n",
              "      <td>2016-04-29T08:02:16Z</td>\n",
              "      <td>2016-04-29T00:00:00Z</td>\n",
              "      <td>21</td>\n",
              "      <td>ANDORINHAS</td>\n",
              "      <td>0</td>\n",
              "      <td>0</td>\n",
              "      <td>0</td>\n",
              "      <td>0</td>\n",
              "      <td>0</td>\n",
              "      <td>0</td>\n",
              "      <td>No</td>\n",
              "    </tr>\n",
              "    <tr>\n",
              "      <th>9</th>\n",
              "      <td>7.812456e+13</td>\n",
              "      <td>5629123</td>\n",
              "      <td>F</td>\n",
              "      <td>2016-04-27T12:48:25Z</td>\n",
              "      <td>2016-04-29T00:00:00Z</td>\n",
              "      <td>19</td>\n",
              "      <td>CONQUISTA</td>\n",
              "      <td>0</td>\n",
              "      <td>0</td>\n",
              "      <td>0</td>\n",
              "      <td>0</td>\n",
              "      <td>0</td>\n",
              "      <td>0</td>\n",
              "      <td>No</td>\n",
              "    </tr>\n",
              "  </tbody>\n",
              "</table>\n",
              "</div>"
            ],
            "text/plain": [
              "      PatientId  AppointmentID Gender          ScheduledDay  \\\n",
              "0  2.987250e+13        5642903      F  2016-04-29T18:38:08Z   \n",
              "1  5.589978e+14        5642503      M  2016-04-29T16:08:27Z   \n",
              "2  4.262962e+12        5642549      F  2016-04-29T16:19:04Z   \n",
              "3  8.679512e+11        5642828      F  2016-04-29T17:29:31Z   \n",
              "4  8.841186e+12        5642494      F  2016-04-29T16:07:23Z   \n",
              "5  9.598513e+13        5626772      F  2016-04-27T08:36:51Z   \n",
              "6  7.336882e+14        5630279      F  2016-04-27T15:05:12Z   \n",
              "7  3.449833e+12        5630575      F  2016-04-27T15:39:58Z   \n",
              "8  5.639473e+13        5638447      F  2016-04-29T08:02:16Z   \n",
              "9  7.812456e+13        5629123      F  2016-04-27T12:48:25Z   \n",
              "\n",
              "         AppointmentDay  Age      Neighbourhood  Scholarship  Hipertension  \\\n",
              "0  2016-04-29T00:00:00Z   62    JARDIM DA PENHA            0             1   \n",
              "1  2016-04-29T00:00:00Z   56    JARDIM DA PENHA            0             0   \n",
              "2  2016-04-29T00:00:00Z   62      MATA DA PRAIA            0             0   \n",
              "3  2016-04-29T00:00:00Z    8  PONTAL DE CAMBURI            0             0   \n",
              "4  2016-04-29T00:00:00Z   56    JARDIM DA PENHA            0             1   \n",
              "5  2016-04-29T00:00:00Z   76          REPÚBLICA            0             1   \n",
              "6  2016-04-29T00:00:00Z   23         GOIABEIRAS            0             0   \n",
              "7  2016-04-29T00:00:00Z   39         GOIABEIRAS            0             0   \n",
              "8  2016-04-29T00:00:00Z   21         ANDORINHAS            0             0   \n",
              "9  2016-04-29T00:00:00Z   19          CONQUISTA            0             0   \n",
              "\n",
              "   Diabetes  Alcoholism  Handcap  SMS_received No-show  \n",
              "0         0           0        0             0      No  \n",
              "1         0           0        0             0      No  \n",
              "2         0           0        0             0      No  \n",
              "3         0           0        0             0      No  \n",
              "4         1           0        0             0      No  \n",
              "5         0           0        0             0      No  \n",
              "6         0           0        0             0     Yes  \n",
              "7         0           0        0             0     Yes  \n",
              "8         0           0        0             0      No  \n",
              "9         0           0        0             0      No  "
            ]
          },
          "metadata": {},
          "execution_count": 320
        }
      ]
    },
    {
      "cell_type": "code",
      "metadata": {
        "colab": {
          "base_uri": "https://localhost:8080/"
        },
        "id": "_YgclCXMnG9-",
        "outputId": "29d98679-22b5-495b-b106-23b0321094b9"
      },
      "source": [
        "df.shape"
      ],
      "execution_count": 321,
      "outputs": [
        {
          "output_type": "execute_result",
          "data": {
            "text/plain": [
              "(110527, 14)"
            ]
          },
          "metadata": {},
          "execution_count": 321
        }
      ]
    },
    {
      "cell_type": "code",
      "metadata": {
        "colab": {
          "base_uri": "https://localhost:8080/"
        },
        "id": "3PpDGUZgm9z8",
        "outputId": "c9bae735-e2e7-4296-f7e4-abe6a88da442"
      },
      "source": [
        "df.info()"
      ],
      "execution_count": 322,
      "outputs": [
        {
          "output_type": "stream",
          "name": "stdout",
          "text": [
            "<class 'pandas.core.frame.DataFrame'>\n",
            "RangeIndex: 110527 entries, 0 to 110526\n",
            "Data columns (total 14 columns):\n",
            " #   Column          Non-Null Count   Dtype  \n",
            "---  ------          --------------   -----  \n",
            " 0   PatientId       110527 non-null  float64\n",
            " 1   AppointmentID   110527 non-null  int64  \n",
            " 2   Gender          110527 non-null  object \n",
            " 3   ScheduledDay    110527 non-null  object \n",
            " 4   AppointmentDay  110527 non-null  object \n",
            " 5   Age             110527 non-null  int64  \n",
            " 6   Neighbourhood   110527 non-null  object \n",
            " 7   Scholarship     110527 non-null  int64  \n",
            " 8   Hipertension    110527 non-null  int64  \n",
            " 9   Diabetes        110527 non-null  int64  \n",
            " 10  Alcoholism      110527 non-null  int64  \n",
            " 11  Handcap         110527 non-null  int64  \n",
            " 12  SMS_received    110527 non-null  int64  \n",
            " 13  No-show         110527 non-null  object \n",
            "dtypes: float64(1), int64(8), object(5)\n",
            "memory usage: 11.8+ MB\n"
          ]
        }
      ]
    },
    {
      "cell_type": "code",
      "metadata": {
        "colab": {
          "base_uri": "https://localhost:8080/"
        },
        "id": "Tnl_vVSbnmTL",
        "outputId": "1dd33b7e-6cb6-49bd-8364-7efccb45b0b0"
      },
      "source": [
        "df.isna().sum()"
      ],
      "execution_count": 323,
      "outputs": [
        {
          "output_type": "execute_result",
          "data": {
            "text/plain": [
              "PatientId         0\n",
              "AppointmentID     0\n",
              "Gender            0\n",
              "ScheduledDay      0\n",
              "AppointmentDay    0\n",
              "Age               0\n",
              "Neighbourhood     0\n",
              "Scholarship       0\n",
              "Hipertension      0\n",
              "Diabetes          0\n",
              "Alcoholism        0\n",
              "Handcap           0\n",
              "SMS_received      0\n",
              "No-show           0\n",
              "dtype: int64"
            ]
          },
          "metadata": {},
          "execution_count": 323
        }
      ]
    },
    {
      "cell_type": "markdown",
      "metadata": {
        "id": "SAkY7N6HvTcM"
      },
      "source": [
        "\n",
        "\n",
        "- Rename mis-spelled column names and use (Male, Female) instead of (M,F)."
      ]
    },
    {
      "cell_type": "code",
      "metadata": {
        "id": "CpOuKw_rvdrS"
      },
      "source": [
        "df = df.rename(columns={'Hipertension': 'Hypertension', 'Handcap': 'Handicap', 'SMS_received': 'SMSReceived', 'No-show': 'visit'})"
      ],
      "execution_count": 324,
      "outputs": []
    },
    {
      "cell_type": "markdown",
      "metadata": {
        "id": "H2aev0HdKJyG"
      },
      "source": [
        "- Converting Gender values to Male and Female for better visulaization"
      ]
    },
    {
      "cell_type": "code",
      "metadata": {
        "id": "AbFobBoHKDiW"
      },
      "source": [
        "df['Gender'] = df.Gender.map({'M':'Male', 'F':'Female'})"
      ],
      "execution_count": 325,
      "outputs": []
    },
    {
      "cell_type": "markdown",
      "metadata": {
        "id": "iurmZneyu53E"
      },
      "source": [
        "- Convert (ScheduledDay, AppointmentDay) to datetime."
      ]
    },
    {
      "cell_type": "code",
      "metadata": {
        "id": "mv-urQfRujQa"
      },
      "source": [
        "df.ScheduledDay = pd.to_datetime(df.ScheduledDay).dt.date.astype('datetime64')\n",
        "df.AppointmentDay = pd.to_datetime(df.AppointmentDay).dt.date.astype('datetime64')"
      ],
      "execution_count": 326,
      "outputs": []
    },
    {
      "cell_type": "markdown",
      "metadata": {
        "id": "gJ25vcytrd9N"
      },
      "source": [
        "- New column to calculate the time difference between registration of the appointement and the visit of the appointement"
      ]
    },
    {
      "cell_type": "code",
      "metadata": {
        "id": "cfCPSSFFlqsi"
      },
      "source": [
        "time_until_visit = df.AppointmentDay - df.ScheduledDay\n",
        "time_until_visit = time_until_visit.dt.days\n",
        "df.insert(5,\"time_until_visit\" , time_until_visit)"
      ],
      "execution_count": 327,
      "outputs": []
    },
    {
      "cell_type": "code",
      "metadata": {
        "colab": {
          "base_uri": "https://localhost:8080/",
          "height": 297
        },
        "id": "ksMU93VNr-e0",
        "outputId": "eec46278-f426-4449-e6d3-1574494e649d"
      },
      "source": [
        "df.describe()"
      ],
      "execution_count": 328,
      "outputs": [
        {
          "output_type": "execute_result",
          "data": {
            "text/html": [
              "<div>\n",
              "<style scoped>\n",
              "    .dataframe tbody tr th:only-of-type {\n",
              "        vertical-align: middle;\n",
              "    }\n",
              "\n",
              "    .dataframe tbody tr th {\n",
              "        vertical-align: top;\n",
              "    }\n",
              "\n",
              "    .dataframe thead th {\n",
              "        text-align: right;\n",
              "    }\n",
              "</style>\n",
              "<table border=\"1\" class=\"dataframe\">\n",
              "  <thead>\n",
              "    <tr style=\"text-align: right;\">\n",
              "      <th></th>\n",
              "      <th>PatientId</th>\n",
              "      <th>AppointmentID</th>\n",
              "      <th>time_until_visit</th>\n",
              "      <th>Age</th>\n",
              "      <th>Scholarship</th>\n",
              "      <th>Hypertension</th>\n",
              "      <th>Diabetes</th>\n",
              "      <th>Alcoholism</th>\n",
              "      <th>Handicap</th>\n",
              "      <th>SMSReceived</th>\n",
              "    </tr>\n",
              "  </thead>\n",
              "  <tbody>\n",
              "    <tr>\n",
              "      <th>count</th>\n",
              "      <td>1.105270e+05</td>\n",
              "      <td>1.105270e+05</td>\n",
              "      <td>110527.000000</td>\n",
              "      <td>110527.000000</td>\n",
              "      <td>110527.000000</td>\n",
              "      <td>110527.000000</td>\n",
              "      <td>110527.000000</td>\n",
              "      <td>110527.000000</td>\n",
              "      <td>110527.000000</td>\n",
              "      <td>110527.000000</td>\n",
              "    </tr>\n",
              "    <tr>\n",
              "      <th>mean</th>\n",
              "      <td>1.474963e+14</td>\n",
              "      <td>5.675305e+06</td>\n",
              "      <td>10.183702</td>\n",
              "      <td>37.088874</td>\n",
              "      <td>0.098266</td>\n",
              "      <td>0.197246</td>\n",
              "      <td>0.071865</td>\n",
              "      <td>0.030400</td>\n",
              "      <td>0.022248</td>\n",
              "      <td>0.321026</td>\n",
              "    </tr>\n",
              "    <tr>\n",
              "      <th>std</th>\n",
              "      <td>2.560949e+14</td>\n",
              "      <td>7.129575e+04</td>\n",
              "      <td>15.254996</td>\n",
              "      <td>23.110205</td>\n",
              "      <td>0.297675</td>\n",
              "      <td>0.397921</td>\n",
              "      <td>0.258265</td>\n",
              "      <td>0.171686</td>\n",
              "      <td>0.161543</td>\n",
              "      <td>0.466873</td>\n",
              "    </tr>\n",
              "    <tr>\n",
              "      <th>min</th>\n",
              "      <td>3.921784e+04</td>\n",
              "      <td>5.030230e+06</td>\n",
              "      <td>-6.000000</td>\n",
              "      <td>-1.000000</td>\n",
              "      <td>0.000000</td>\n",
              "      <td>0.000000</td>\n",
              "      <td>0.000000</td>\n",
              "      <td>0.000000</td>\n",
              "      <td>0.000000</td>\n",
              "      <td>0.000000</td>\n",
              "    </tr>\n",
              "    <tr>\n",
              "      <th>25%</th>\n",
              "      <td>4.172614e+12</td>\n",
              "      <td>5.640286e+06</td>\n",
              "      <td>0.000000</td>\n",
              "      <td>18.000000</td>\n",
              "      <td>0.000000</td>\n",
              "      <td>0.000000</td>\n",
              "      <td>0.000000</td>\n",
              "      <td>0.000000</td>\n",
              "      <td>0.000000</td>\n",
              "      <td>0.000000</td>\n",
              "    </tr>\n",
              "    <tr>\n",
              "      <th>50%</th>\n",
              "      <td>3.173184e+13</td>\n",
              "      <td>5.680573e+06</td>\n",
              "      <td>4.000000</td>\n",
              "      <td>37.000000</td>\n",
              "      <td>0.000000</td>\n",
              "      <td>0.000000</td>\n",
              "      <td>0.000000</td>\n",
              "      <td>0.000000</td>\n",
              "      <td>0.000000</td>\n",
              "      <td>0.000000</td>\n",
              "    </tr>\n",
              "    <tr>\n",
              "      <th>75%</th>\n",
              "      <td>9.439172e+13</td>\n",
              "      <td>5.725524e+06</td>\n",
              "      <td>15.000000</td>\n",
              "      <td>55.000000</td>\n",
              "      <td>0.000000</td>\n",
              "      <td>0.000000</td>\n",
              "      <td>0.000000</td>\n",
              "      <td>0.000000</td>\n",
              "      <td>0.000000</td>\n",
              "      <td>1.000000</td>\n",
              "    </tr>\n",
              "    <tr>\n",
              "      <th>max</th>\n",
              "      <td>9.999816e+14</td>\n",
              "      <td>5.790484e+06</td>\n",
              "      <td>179.000000</td>\n",
              "      <td>115.000000</td>\n",
              "      <td>1.000000</td>\n",
              "      <td>1.000000</td>\n",
              "      <td>1.000000</td>\n",
              "      <td>1.000000</td>\n",
              "      <td>4.000000</td>\n",
              "      <td>1.000000</td>\n",
              "    </tr>\n",
              "  </tbody>\n",
              "</table>\n",
              "</div>"
            ],
            "text/plain": [
              "          PatientId  AppointmentID  time_until_visit            Age  \\\n",
              "count  1.105270e+05   1.105270e+05     110527.000000  110527.000000   \n",
              "mean   1.474963e+14   5.675305e+06         10.183702      37.088874   \n",
              "std    2.560949e+14   7.129575e+04         15.254996      23.110205   \n",
              "min    3.921784e+04   5.030230e+06         -6.000000      -1.000000   \n",
              "25%    4.172614e+12   5.640286e+06          0.000000      18.000000   \n",
              "50%    3.173184e+13   5.680573e+06          4.000000      37.000000   \n",
              "75%    9.439172e+13   5.725524e+06         15.000000      55.000000   \n",
              "max    9.999816e+14   5.790484e+06        179.000000     115.000000   \n",
              "\n",
              "         Scholarship   Hypertension       Diabetes     Alcoholism  \\\n",
              "count  110527.000000  110527.000000  110527.000000  110527.000000   \n",
              "mean        0.098266       0.197246       0.071865       0.030400   \n",
              "std         0.297675       0.397921       0.258265       0.171686   \n",
              "min         0.000000       0.000000       0.000000       0.000000   \n",
              "25%         0.000000       0.000000       0.000000       0.000000   \n",
              "50%         0.000000       0.000000       0.000000       0.000000   \n",
              "75%         0.000000       0.000000       0.000000       0.000000   \n",
              "max         1.000000       1.000000       1.000000       1.000000   \n",
              "\n",
              "            Handicap    SMSReceived  \n",
              "count  110527.000000  110527.000000  \n",
              "mean        0.022248       0.321026  \n",
              "std         0.161543       0.466873  \n",
              "min         0.000000       0.000000  \n",
              "25%         0.000000       0.000000  \n",
              "50%         0.000000       0.000000  \n",
              "75%         0.000000       1.000000  \n",
              "max         4.000000       1.000000  "
            ]
          },
          "metadata": {},
          "execution_count": 328
        }
      ]
    },
    {
      "cell_type": "markdown",
      "metadata": {
        "id": "xsBcMsmXsF48"
      },
      "source": [
        "**Age min value is -1 and our new feature we've just created with min value -6...... we will take care of it and I think it is either a typo or nan.\n",
        "\n",
        "For now lets explore Gender & visit columns with value_count() and groupby functions.\n",
        "\n"
      ]
    },
    {
      "cell_type": "code",
      "metadata": {
        "colab": {
          "base_uri": "https://localhost:8080/"
        },
        "id": "J0bICKL4ZPrg",
        "outputId": "160a4370-60b7-4fc5-ea83-39da8ec19a36"
      },
      "source": [
        "df.Gender.value_counts()"
      ],
      "execution_count": 329,
      "outputs": [
        {
          "output_type": "execute_result",
          "data": {
            "text/plain": [
              "Female    71840\n",
              "Male      38687\n",
              "Name: Gender, dtype: int64"
            ]
          },
          "metadata": {},
          "execution_count": 329
        }
      ]
    },
    {
      "cell_type": "code",
      "metadata": {
        "colab": {
          "base_uri": "https://localhost:8080/"
        },
        "id": "gVhnGevTZdOY",
        "outputId": "2097c9ec-f87b-4802-f60e-97e0f345f3ce"
      },
      "source": [
        "df.visit.value_counts()"
      ],
      "execution_count": 330,
      "outputs": [
        {
          "output_type": "execute_result",
          "data": {
            "text/plain": [
              "No     88208\n",
              "Yes    22319\n",
              "Name: visit, dtype: int64"
            ]
          },
          "metadata": {},
          "execution_count": 330
        }
      ]
    },
    {
      "cell_type": "code",
      "metadata": {
        "colab": {
          "base_uri": "https://localhost:8080/",
          "height": 111
        },
        "id": "uADFr-5nPfha",
        "outputId": "4657cb40-d2bd-41a8-e0b9-db3e03f524d1"
      },
      "source": [
        "df[['visit', 'SMSReceived']].groupby(['visit'], as_index=False).sum().sort_values(by='visit', ascending=False)"
      ],
      "execution_count": 331,
      "outputs": [
        {
          "output_type": "execute_result",
          "data": {
            "text/html": [
              "<div>\n",
              "<style scoped>\n",
              "    .dataframe tbody tr th:only-of-type {\n",
              "        vertical-align: middle;\n",
              "    }\n",
              "\n",
              "    .dataframe tbody tr th {\n",
              "        vertical-align: top;\n",
              "    }\n",
              "\n",
              "    .dataframe thead th {\n",
              "        text-align: right;\n",
              "    }\n",
              "</style>\n",
              "<table border=\"1\" class=\"dataframe\">\n",
              "  <thead>\n",
              "    <tr style=\"text-align: right;\">\n",
              "      <th></th>\n",
              "      <th>visit</th>\n",
              "      <th>SMSReceived</th>\n",
              "    </tr>\n",
              "  </thead>\n",
              "  <tbody>\n",
              "    <tr>\n",
              "      <th>1</th>\n",
              "      <td>Yes</td>\n",
              "      <td>9784</td>\n",
              "    </tr>\n",
              "    <tr>\n",
              "      <th>0</th>\n",
              "      <td>No</td>\n",
              "      <td>25698</td>\n",
              "    </tr>\n",
              "  </tbody>\n",
              "</table>\n",
              "</div>"
            ],
            "text/plain": [
              "  visit  SMSReceived\n",
              "1   Yes         9784\n",
              "0    No        25698"
            ]
          },
          "metadata": {},
          "execution_count": 331
        }
      ]
    },
    {
      "cell_type": "markdown",
      "metadata": {
        "id": "8mIv0cuPNF9e"
      },
      "source": [
        "I will ignore the first 2 columns as they are just random values that could affect our analysis, also the Neighbourhood column contains 88% of random neighbourhoods, I feel initially it will just add some complexity. "
      ]
    },
    {
      "cell_type": "code",
      "metadata": {
        "colab": {
          "base_uri": "https://localhost:8080/",
          "height": 204
        },
        "id": "mo3v5s2yMSIs",
        "outputId": "d23b0330-5000-4757-af4a-ba8e0e5134b9"
      },
      "source": [
        "df.drop(['PatientId', 'AppointmentID', 'Neighbourhood'], axis='columns', inplace=True)\n",
        "df.head(5)"
      ],
      "execution_count": 332,
      "outputs": [
        {
          "output_type": "execute_result",
          "data": {
            "text/html": [
              "<div>\n",
              "<style scoped>\n",
              "    .dataframe tbody tr th:only-of-type {\n",
              "        vertical-align: middle;\n",
              "    }\n",
              "\n",
              "    .dataframe tbody tr th {\n",
              "        vertical-align: top;\n",
              "    }\n",
              "\n",
              "    .dataframe thead th {\n",
              "        text-align: right;\n",
              "    }\n",
              "</style>\n",
              "<table border=\"1\" class=\"dataframe\">\n",
              "  <thead>\n",
              "    <tr style=\"text-align: right;\">\n",
              "      <th></th>\n",
              "      <th>Gender</th>\n",
              "      <th>ScheduledDay</th>\n",
              "      <th>AppointmentDay</th>\n",
              "      <th>time_until_visit</th>\n",
              "      <th>Age</th>\n",
              "      <th>Scholarship</th>\n",
              "      <th>Hypertension</th>\n",
              "      <th>Diabetes</th>\n",
              "      <th>Alcoholism</th>\n",
              "      <th>Handicap</th>\n",
              "      <th>SMSReceived</th>\n",
              "      <th>visit</th>\n",
              "    </tr>\n",
              "  </thead>\n",
              "  <tbody>\n",
              "    <tr>\n",
              "      <th>0</th>\n",
              "      <td>Female</td>\n",
              "      <td>2016-04-29</td>\n",
              "      <td>2016-04-29</td>\n",
              "      <td>0</td>\n",
              "      <td>62</td>\n",
              "      <td>0</td>\n",
              "      <td>1</td>\n",
              "      <td>0</td>\n",
              "      <td>0</td>\n",
              "      <td>0</td>\n",
              "      <td>0</td>\n",
              "      <td>No</td>\n",
              "    </tr>\n",
              "    <tr>\n",
              "      <th>1</th>\n",
              "      <td>Male</td>\n",
              "      <td>2016-04-29</td>\n",
              "      <td>2016-04-29</td>\n",
              "      <td>0</td>\n",
              "      <td>56</td>\n",
              "      <td>0</td>\n",
              "      <td>0</td>\n",
              "      <td>0</td>\n",
              "      <td>0</td>\n",
              "      <td>0</td>\n",
              "      <td>0</td>\n",
              "      <td>No</td>\n",
              "    </tr>\n",
              "    <tr>\n",
              "      <th>2</th>\n",
              "      <td>Female</td>\n",
              "      <td>2016-04-29</td>\n",
              "      <td>2016-04-29</td>\n",
              "      <td>0</td>\n",
              "      <td>62</td>\n",
              "      <td>0</td>\n",
              "      <td>0</td>\n",
              "      <td>0</td>\n",
              "      <td>0</td>\n",
              "      <td>0</td>\n",
              "      <td>0</td>\n",
              "      <td>No</td>\n",
              "    </tr>\n",
              "    <tr>\n",
              "      <th>3</th>\n",
              "      <td>Female</td>\n",
              "      <td>2016-04-29</td>\n",
              "      <td>2016-04-29</td>\n",
              "      <td>0</td>\n",
              "      <td>8</td>\n",
              "      <td>0</td>\n",
              "      <td>0</td>\n",
              "      <td>0</td>\n",
              "      <td>0</td>\n",
              "      <td>0</td>\n",
              "      <td>0</td>\n",
              "      <td>No</td>\n",
              "    </tr>\n",
              "    <tr>\n",
              "      <th>4</th>\n",
              "      <td>Female</td>\n",
              "      <td>2016-04-29</td>\n",
              "      <td>2016-04-29</td>\n",
              "      <td>0</td>\n",
              "      <td>56</td>\n",
              "      <td>0</td>\n",
              "      <td>1</td>\n",
              "      <td>1</td>\n",
              "      <td>0</td>\n",
              "      <td>0</td>\n",
              "      <td>0</td>\n",
              "      <td>No</td>\n",
              "    </tr>\n",
              "  </tbody>\n",
              "</table>\n",
              "</div>"
            ],
            "text/plain": [
              "   Gender ScheduledDay AppointmentDay  time_until_visit  Age  Scholarship  \\\n",
              "0  Female   2016-04-29     2016-04-29                 0   62            0   \n",
              "1    Male   2016-04-29     2016-04-29                 0   56            0   \n",
              "2  Female   2016-04-29     2016-04-29                 0   62            0   \n",
              "3  Female   2016-04-29     2016-04-29                 0    8            0   \n",
              "4  Female   2016-04-29     2016-04-29                 0   56            0   \n",
              "\n",
              "   Hypertension  Diabetes  Alcoholism  Handicap  SMSReceived visit  \n",
              "0             1         0           0         0            0    No  \n",
              "1             0         0           0         0            0    No  \n",
              "2             0         0           0         0            0    No  \n",
              "3             0         0           0         0            0    No  \n",
              "4             1         1           0         0            0    No  "
            ]
          },
          "metadata": {},
          "execution_count": 332
        }
      ]
    },
    {
      "cell_type": "markdown",
      "metadata": {
        "id": "Xte0AaDo7gSU"
      },
      "source": [
        "**Handicap:**\n",
        "\n",
        "In the dataset metadata it is said that the handcap feature should cointain a boolean value. However, this feature assumes values from 0 to 4, probably indicating the handicap number for each patient. In this analysis, we will map to 1 any value higher than 0.\n",
        "\n"
      ]
    },
    {
      "cell_type": "code",
      "metadata": {
        "colab": {
          "base_uri": "https://localhost:8080/"
        },
        "id": "vlGq-zUT8AsZ",
        "outputId": "23f4b7e8-50a7-4517-8e6e-f10e8ea4d11e"
      },
      "source": [
        "df.Handicap = np.where(df['Handicap']>0, 1, 0)\n",
        "df.max()"
      ],
      "execution_count": 333,
      "outputs": [
        {
          "output_type": "execute_result",
          "data": {
            "text/plain": [
              "Gender                             Male\n",
              "ScheduledDay        2016-06-08 00:00:00\n",
              "AppointmentDay      2016-06-08 00:00:00\n",
              "time_until_visit                    179\n",
              "Age                                 115\n",
              "Scholarship                           1\n",
              "Hypertension                          1\n",
              "Diabetes                              1\n",
              "Alcoholism                            1\n",
              "Handicap                              1\n",
              "SMSReceived                           1\n",
              "visit                               Yes\n",
              "dtype: object"
            ]
          },
          "metadata": {},
          "execution_count": 333
        }
      ]
    },
    {
      "cell_type": "markdown",
      "metadata": {
        "id": "NPnFQMgEMYKN"
      },
      "source": [
        "- **Time until visit:**\n",
        "\n",
        "from describe function we saw that the feature time_until_visit has a minmum value of (-6) for the difference between time of ScheduledDay and AppointmentDay... by logic it is a typo... lets first count any value less than zero and I will drop them too!"
      ]
    },
    {
      "cell_type": "code",
      "metadata": {
        "colab": {
          "base_uri": "https://localhost:8080/"
        },
        "id": "UI33NDUyMOAW",
        "outputId": "4f85d73b-c926-421a-a172-a851ecffc7b4"
      },
      "source": [
        "df.time_until_visit[df.time_until_visit<0].count()"
      ],
      "execution_count": 334,
      "outputs": [
        {
          "output_type": "execute_result",
          "data": {
            "text/plain": [
              "5"
            ]
          },
          "metadata": {},
          "execution_count": 334
        }
      ]
    },
    {
      "cell_type": "code",
      "metadata": {
        "colab": {
          "base_uri": "https://localhost:8080/",
          "height": 297
        },
        "id": "icQ7s22bM1Oe",
        "outputId": "54fb3eb5-ed02-40e4-de08-1b9310a9574e"
      },
      "source": [
        "df = df[df.time_until_visit >= 0]\n",
        "df.describe()"
      ],
      "execution_count": 335,
      "outputs": [
        {
          "output_type": "execute_result",
          "data": {
            "text/html": [
              "<div>\n",
              "<style scoped>\n",
              "    .dataframe tbody tr th:only-of-type {\n",
              "        vertical-align: middle;\n",
              "    }\n",
              "\n",
              "    .dataframe tbody tr th {\n",
              "        vertical-align: top;\n",
              "    }\n",
              "\n",
              "    .dataframe thead th {\n",
              "        text-align: right;\n",
              "    }\n",
              "</style>\n",
              "<table border=\"1\" class=\"dataframe\">\n",
              "  <thead>\n",
              "    <tr style=\"text-align: right;\">\n",
              "      <th></th>\n",
              "      <th>time_until_visit</th>\n",
              "      <th>Age</th>\n",
              "      <th>Scholarship</th>\n",
              "      <th>Hypertension</th>\n",
              "      <th>Diabetes</th>\n",
              "      <th>Alcoholism</th>\n",
              "      <th>Handicap</th>\n",
              "      <th>SMSReceived</th>\n",
              "    </tr>\n",
              "  </thead>\n",
              "  <tbody>\n",
              "    <tr>\n",
              "      <th>count</th>\n",
              "      <td>110522.000000</td>\n",
              "      <td>110522.000000</td>\n",
              "      <td>110522.000000</td>\n",
              "      <td>110522.000000</td>\n",
              "      <td>110522.000000</td>\n",
              "      <td>110522.000000</td>\n",
              "      <td>110522.000000</td>\n",
              "      <td>110522.000000</td>\n",
              "    </tr>\n",
              "    <tr>\n",
              "      <th>mean</th>\n",
              "      <td>10.184253</td>\n",
              "      <td>37.089041</td>\n",
              "      <td>0.098270</td>\n",
              "      <td>0.197255</td>\n",
              "      <td>0.071868</td>\n",
              "      <td>0.030401</td>\n",
              "      <td>0.020258</td>\n",
              "      <td>0.321040</td>\n",
              "    </tr>\n",
              "    <tr>\n",
              "      <th>std</th>\n",
              "      <td>15.255115</td>\n",
              "      <td>23.110064</td>\n",
              "      <td>0.297681</td>\n",
              "      <td>0.397928</td>\n",
              "      <td>0.258270</td>\n",
              "      <td>0.171689</td>\n",
              "      <td>0.140884</td>\n",
              "      <td>0.466878</td>\n",
              "    </tr>\n",
              "    <tr>\n",
              "      <th>min</th>\n",
              "      <td>0.000000</td>\n",
              "      <td>-1.000000</td>\n",
              "      <td>0.000000</td>\n",
              "      <td>0.000000</td>\n",
              "      <td>0.000000</td>\n",
              "      <td>0.000000</td>\n",
              "      <td>0.000000</td>\n",
              "      <td>0.000000</td>\n",
              "    </tr>\n",
              "    <tr>\n",
              "      <th>25%</th>\n",
              "      <td>0.000000</td>\n",
              "      <td>18.000000</td>\n",
              "      <td>0.000000</td>\n",
              "      <td>0.000000</td>\n",
              "      <td>0.000000</td>\n",
              "      <td>0.000000</td>\n",
              "      <td>0.000000</td>\n",
              "      <td>0.000000</td>\n",
              "    </tr>\n",
              "    <tr>\n",
              "      <th>50%</th>\n",
              "      <td>4.000000</td>\n",
              "      <td>37.000000</td>\n",
              "      <td>0.000000</td>\n",
              "      <td>0.000000</td>\n",
              "      <td>0.000000</td>\n",
              "      <td>0.000000</td>\n",
              "      <td>0.000000</td>\n",
              "      <td>0.000000</td>\n",
              "    </tr>\n",
              "    <tr>\n",
              "      <th>75%</th>\n",
              "      <td>15.000000</td>\n",
              "      <td>55.000000</td>\n",
              "      <td>0.000000</td>\n",
              "      <td>0.000000</td>\n",
              "      <td>0.000000</td>\n",
              "      <td>0.000000</td>\n",
              "      <td>0.000000</td>\n",
              "      <td>1.000000</td>\n",
              "    </tr>\n",
              "    <tr>\n",
              "      <th>max</th>\n",
              "      <td>179.000000</td>\n",
              "      <td>115.000000</td>\n",
              "      <td>1.000000</td>\n",
              "      <td>1.000000</td>\n",
              "      <td>1.000000</td>\n",
              "      <td>1.000000</td>\n",
              "      <td>1.000000</td>\n",
              "      <td>1.000000</td>\n",
              "    </tr>\n",
              "  </tbody>\n",
              "</table>\n",
              "</div>"
            ],
            "text/plain": [
              "       time_until_visit            Age    Scholarship   Hypertension  \\\n",
              "count     110522.000000  110522.000000  110522.000000  110522.000000   \n",
              "mean          10.184253      37.089041       0.098270       0.197255   \n",
              "std           15.255115      23.110064       0.297681       0.397928   \n",
              "min            0.000000      -1.000000       0.000000       0.000000   \n",
              "25%            0.000000      18.000000       0.000000       0.000000   \n",
              "50%            4.000000      37.000000       0.000000       0.000000   \n",
              "75%           15.000000      55.000000       0.000000       0.000000   \n",
              "max          179.000000     115.000000       1.000000       1.000000   \n",
              "\n",
              "            Diabetes     Alcoholism       Handicap    SMSReceived  \n",
              "count  110522.000000  110522.000000  110522.000000  110522.000000  \n",
              "mean        0.071868       0.030401       0.020258       0.321040  \n",
              "std         0.258270       0.171689       0.140884       0.466878  \n",
              "min         0.000000       0.000000       0.000000       0.000000  \n",
              "25%         0.000000       0.000000       0.000000       0.000000  \n",
              "50%         0.000000       0.000000       0.000000       0.000000  \n",
              "75%         0.000000       0.000000       0.000000       1.000000  \n",
              "max         1.000000       1.000000       1.000000       1.000000  "
            ]
          },
          "metadata": {},
          "execution_count": 335
        }
      ]
    },
    {
      "cell_type": "code",
      "metadata": {
        "colab": {
          "base_uri": "https://localhost:8080/",
          "height": 173
        },
        "id": "w5m69fbzPL1m",
        "outputId": "03a19cf3-2752-47ac-d1eb-594cdbef3bb6"
      },
      "source": [
        "df.describe(include=['O'])"
      ],
      "execution_count": 336,
      "outputs": [
        {
          "output_type": "execute_result",
          "data": {
            "text/html": [
              "<div>\n",
              "<style scoped>\n",
              "    .dataframe tbody tr th:only-of-type {\n",
              "        vertical-align: middle;\n",
              "    }\n",
              "\n",
              "    .dataframe tbody tr th {\n",
              "        vertical-align: top;\n",
              "    }\n",
              "\n",
              "    .dataframe thead th {\n",
              "        text-align: right;\n",
              "    }\n",
              "</style>\n",
              "<table border=\"1\" class=\"dataframe\">\n",
              "  <thead>\n",
              "    <tr style=\"text-align: right;\">\n",
              "      <th></th>\n",
              "      <th>Gender</th>\n",
              "      <th>visit</th>\n",
              "    </tr>\n",
              "  </thead>\n",
              "  <tbody>\n",
              "    <tr>\n",
              "      <th>count</th>\n",
              "      <td>110522</td>\n",
              "      <td>110522</td>\n",
              "    </tr>\n",
              "    <tr>\n",
              "      <th>unique</th>\n",
              "      <td>2</td>\n",
              "      <td>2</td>\n",
              "    </tr>\n",
              "    <tr>\n",
              "      <th>top</th>\n",
              "      <td>Female</td>\n",
              "      <td>No</td>\n",
              "    </tr>\n",
              "    <tr>\n",
              "      <th>freq</th>\n",
              "      <td>71837</td>\n",
              "      <td>88208</td>\n",
              "    </tr>\n",
              "  </tbody>\n",
              "</table>\n",
              "</div>"
            ],
            "text/plain": [
              "        Gender   visit\n",
              "count   110522  110522\n",
              "unique       2       2\n",
              "top     Female      No\n",
              "freq     71837   88208"
            ]
          },
          "metadata": {},
          "execution_count": 336
        }
      ]
    },
    {
      "cell_type": "markdown",
      "metadata": {
        "id": "4ht8iT7azFfl"
      },
      "source": [
        "- **Age**: \n",
        "\n",
        "let's explore **Age** feature\n",
        "The age column has -1 which doesn't make sense... for 0 age I would think of babies that have few months more or less but do not reach one year yet.. I think it is a typo.. lets drop it."
      ]
    },
    {
      "cell_type": "code",
      "metadata": {
        "colab": {
          "base_uri": "https://localhost:8080/"
        },
        "id": "SDNEZXQ0lndF",
        "outputId": "bf70f2ed-da01-4539-d5f5-6d04314f9488"
      },
      "source": [
        "df.Age[df.Age<=0].count()"
      ],
      "execution_count": 337,
      "outputs": [
        {
          "output_type": "execute_result",
          "data": {
            "text/plain": [
              "3540"
            ]
          },
          "metadata": {},
          "execution_count": 337
        }
      ]
    },
    {
      "cell_type": "code",
      "metadata": {
        "colab": {
          "base_uri": "https://localhost:8080/"
        },
        "id": "2XwJWijwnoaq",
        "outputId": "4c88d7bf-201b-4661-e0ea-1214426463ad"
      },
      "source": [
        "df.Age[df.Age<0].count()"
      ],
      "execution_count": 338,
      "outputs": [
        {
          "output_type": "execute_result",
          "data": {
            "text/plain": [
              "1"
            ]
          },
          "metadata": {},
          "execution_count": 338
        }
      ]
    },
    {
      "cell_type": "code",
      "metadata": {
        "colab": {
          "base_uri": "https://localhost:8080/",
          "height": 297
        },
        "id": "zIiSLO1gB3QP",
        "outputId": "33caaf1c-eea7-4605-e1e9-6ccb3487467e"
      },
      "source": [
        "df = df[df.Age >= 0]\n",
        "df.describe()"
      ],
      "execution_count": 346,
      "outputs": [
        {
          "output_type": "execute_result",
          "data": {
            "text/html": [
              "<div>\n",
              "<style scoped>\n",
              "    .dataframe tbody tr th:only-of-type {\n",
              "        vertical-align: middle;\n",
              "    }\n",
              "\n",
              "    .dataframe tbody tr th {\n",
              "        vertical-align: top;\n",
              "    }\n",
              "\n",
              "    .dataframe thead th {\n",
              "        text-align: right;\n",
              "    }\n",
              "</style>\n",
              "<table border=\"1\" class=\"dataframe\">\n",
              "  <thead>\n",
              "    <tr style=\"text-align: right;\">\n",
              "      <th></th>\n",
              "      <th>time_until_visit</th>\n",
              "      <th>Age</th>\n",
              "      <th>Scholarship</th>\n",
              "      <th>Hypertension</th>\n",
              "      <th>Diabetes</th>\n",
              "      <th>Alcoholism</th>\n",
              "      <th>Handicap</th>\n",
              "      <th>SMSReceived</th>\n",
              "    </tr>\n",
              "  </thead>\n",
              "  <tbody>\n",
              "    <tr>\n",
              "      <th>count</th>\n",
              "      <td>110521.000000</td>\n",
              "      <td>110521.000000</td>\n",
              "      <td>110521.000000</td>\n",
              "      <td>110521.000000</td>\n",
              "      <td>110521.000000</td>\n",
              "      <td>110521.000000</td>\n",
              "      <td>110521.000000</td>\n",
              "      <td>110521.000000</td>\n",
              "    </tr>\n",
              "    <tr>\n",
              "      <th>mean</th>\n",
              "      <td>10.184345</td>\n",
              "      <td>37.089386</td>\n",
              "      <td>0.098271</td>\n",
              "      <td>0.197257</td>\n",
              "      <td>0.071869</td>\n",
              "      <td>0.030401</td>\n",
              "      <td>0.020259</td>\n",
              "      <td>0.321043</td>\n",
              "    </tr>\n",
              "    <tr>\n",
              "      <th>std</th>\n",
              "      <td>15.255153</td>\n",
              "      <td>23.109885</td>\n",
              "      <td>0.297682</td>\n",
              "      <td>0.397929</td>\n",
              "      <td>0.258272</td>\n",
              "      <td>0.171690</td>\n",
              "      <td>0.140884</td>\n",
              "      <td>0.466879</td>\n",
              "    </tr>\n",
              "    <tr>\n",
              "      <th>min</th>\n",
              "      <td>0.000000</td>\n",
              "      <td>0.000000</td>\n",
              "      <td>0.000000</td>\n",
              "      <td>0.000000</td>\n",
              "      <td>0.000000</td>\n",
              "      <td>0.000000</td>\n",
              "      <td>0.000000</td>\n",
              "      <td>0.000000</td>\n",
              "    </tr>\n",
              "    <tr>\n",
              "      <th>25%</th>\n",
              "      <td>0.000000</td>\n",
              "      <td>18.000000</td>\n",
              "      <td>0.000000</td>\n",
              "      <td>0.000000</td>\n",
              "      <td>0.000000</td>\n",
              "      <td>0.000000</td>\n",
              "      <td>0.000000</td>\n",
              "      <td>0.000000</td>\n",
              "    </tr>\n",
              "    <tr>\n",
              "      <th>50%</th>\n",
              "      <td>4.000000</td>\n",
              "      <td>37.000000</td>\n",
              "      <td>0.000000</td>\n",
              "      <td>0.000000</td>\n",
              "      <td>0.000000</td>\n",
              "      <td>0.000000</td>\n",
              "      <td>0.000000</td>\n",
              "      <td>0.000000</td>\n",
              "    </tr>\n",
              "    <tr>\n",
              "      <th>75%</th>\n",
              "      <td>15.000000</td>\n",
              "      <td>55.000000</td>\n",
              "      <td>0.000000</td>\n",
              "      <td>0.000000</td>\n",
              "      <td>0.000000</td>\n",
              "      <td>0.000000</td>\n",
              "      <td>0.000000</td>\n",
              "      <td>1.000000</td>\n",
              "    </tr>\n",
              "    <tr>\n",
              "      <th>max</th>\n",
              "      <td>179.000000</td>\n",
              "      <td>115.000000</td>\n",
              "      <td>1.000000</td>\n",
              "      <td>1.000000</td>\n",
              "      <td>1.000000</td>\n",
              "      <td>1.000000</td>\n",
              "      <td>1.000000</td>\n",
              "      <td>1.000000</td>\n",
              "    </tr>\n",
              "  </tbody>\n",
              "</table>\n",
              "</div>"
            ],
            "text/plain": [
              "       time_until_visit            Age    Scholarship   Hypertension  \\\n",
              "count     110521.000000  110521.000000  110521.000000  110521.000000   \n",
              "mean          10.184345      37.089386       0.098271       0.197257   \n",
              "std           15.255153      23.109885       0.297682       0.397929   \n",
              "min            0.000000       0.000000       0.000000       0.000000   \n",
              "25%            0.000000      18.000000       0.000000       0.000000   \n",
              "50%            4.000000      37.000000       0.000000       0.000000   \n",
              "75%           15.000000      55.000000       0.000000       0.000000   \n",
              "max          179.000000     115.000000       1.000000       1.000000   \n",
              "\n",
              "            Diabetes     Alcoholism       Handicap    SMSReceived  \n",
              "count  110521.000000  110521.000000  110521.000000  110521.000000  \n",
              "mean        0.071869       0.030401       0.020259       0.321043  \n",
              "std         0.258272       0.171690       0.140884       0.466879  \n",
              "min         0.000000       0.000000       0.000000       0.000000  \n",
              "25%         0.000000       0.000000       0.000000       0.000000  \n",
              "50%         0.000000       0.000000       0.000000       0.000000  \n",
              "75%         0.000000       0.000000       0.000000       1.000000  \n",
              "max         1.000000       1.000000       1.000000       1.000000  "
            ]
          },
          "metadata": {},
          "execution_count": 346
        }
      ]
    },
    {
      "cell_type": "markdown",
      "metadata": {
        "id": "vsYBbqyZ2Mex"
      },
      "source": [
        "It doesn't make sense that babies have Hypertension or Diabetes or Alcoholism.. lets see"
      ]
    },
    {
      "cell_type": "code",
      "metadata": {
        "colab": {
          "base_uri": "https://localhost:8080/",
          "height": 49
        },
        "id": "-7o_dtBn266i",
        "outputId": "015eddb6-4603-44db-8967-df5a835b4c5e"
      },
      "source": [
        "df[(df.Age <= 0) & ((df.Hypertension.astype(int) == 1) | (df.Diabetes.astype(int) == 1) | (df.Alcoholism.astype(int) == 1))]"
      ],
      "execution_count": 340,
      "outputs": [
        {
          "output_type": "execute_result",
          "data": {
            "text/html": [
              "<div>\n",
              "<style scoped>\n",
              "    .dataframe tbody tr th:only-of-type {\n",
              "        vertical-align: middle;\n",
              "    }\n",
              "\n",
              "    .dataframe tbody tr th {\n",
              "        vertical-align: top;\n",
              "    }\n",
              "\n",
              "    .dataframe thead th {\n",
              "        text-align: right;\n",
              "    }\n",
              "</style>\n",
              "<table border=\"1\" class=\"dataframe\">\n",
              "  <thead>\n",
              "    <tr style=\"text-align: right;\">\n",
              "      <th></th>\n",
              "      <th>Gender</th>\n",
              "      <th>ScheduledDay</th>\n",
              "      <th>AppointmentDay</th>\n",
              "      <th>time_until_visit</th>\n",
              "      <th>Age</th>\n",
              "      <th>Scholarship</th>\n",
              "      <th>Hypertension</th>\n",
              "      <th>Diabetes</th>\n",
              "      <th>Alcoholism</th>\n",
              "      <th>Handicap</th>\n",
              "      <th>SMSReceived</th>\n",
              "      <th>visit</th>\n",
              "    </tr>\n",
              "  </thead>\n",
              "  <tbody>\n",
              "  </tbody>\n",
              "</table>\n",
              "</div>"
            ],
            "text/plain": [
              "Empty DataFrame\n",
              "Columns: [Gender, ScheduledDay, AppointmentDay, time_until_visit, Age, Scholarship, Hypertension, Diabetes, Alcoholism, Handicap, SMSReceived, visit]\n",
              "Index: []"
            ]
          },
          "metadata": {},
          "execution_count": 340
        }
      ]
    },
    {
      "cell_type": "code",
      "metadata": {
        "colab": {
          "base_uri": "https://localhost:8080/",
          "height": 530
        },
        "id": "6Co-4_dMTST6",
        "outputId": "5bf8dcb3-7ad8-44ac-9863-1706b4310f6b"
      },
      "source": [
        "plt.figure(figsize=(20,8));\n",
        "Age_plot = sns.boxplot(x = df.Age)\n",
        "Age_plot.set_title(\"Age box plot\")\n"
      ],
      "execution_count": 349,
      "outputs": [
        {
          "output_type": "execute_result",
          "data": {
            "text/plain": [
              "Text(0.5, 1.0, 'Age box plot')"
            ]
          },
          "metadata": {},
          "execution_count": 349
        },
        {
          "output_type": "display_data",
          "data": {
            "image/png": "[encoded data removed]",
            "text/plain": [
              "<Figure size 1440x576 with 1 Axes>"
            ]
          },
          "metadata": {}
        }
      ]
    },
    {
      "cell_type": "markdown",
      "metadata": {
        "id": "rMLTQ2mGURVf"
      },
      "source": [
        "Age has an outlier value which is 115, since it is one value I will drop it for this project EDA ont modelling."
      ]
    },
    {
      "cell_type": "code",
      "metadata": {
        "colab": {
          "base_uri": "https://localhost:8080/",
          "height": 297
        },
        "id": "nFeghxK-U3FX",
        "outputId": "2cac7c58-2e64-4aec-8df3-f3c8630508f9"
      },
      "source": [
        "df = df[df.Age <= 110]\n",
        "df.describe()"
      ],
      "execution_count": 348,
      "outputs": [
        {
          "output_type": "execute_result",
          "data": {
            "text/html": [
              "<div>\n",
              "<style scoped>\n",
              "    .dataframe tbody tr th:only-of-type {\n",
              "        vertical-align: middle;\n",
              "    }\n",
              "\n",
              "    .dataframe tbody tr th {\n",
              "        vertical-align: top;\n",
              "    }\n",
              "\n",
              "    .dataframe thead th {\n",
              "        text-align: right;\n",
              "    }\n",
              "</style>\n",
              "<table border=\"1\" class=\"dataframe\">\n",
              "  <thead>\n",
              "    <tr style=\"text-align: right;\">\n",
              "      <th></th>\n",
              "      <th>time_until_visit</th>\n",
              "      <th>Age</th>\n",
              "      <th>Scholarship</th>\n",
              "      <th>Hypertension</th>\n",
              "      <th>Diabetes</th>\n",
              "      <th>Alcoholism</th>\n",
              "      <th>Handicap</th>\n",
              "      <th>SMSReceived</th>\n",
              "    </tr>\n",
              "  </thead>\n",
              "  <tbody>\n",
              "    <tr>\n",
              "      <th>count</th>\n",
              "      <td>110516.000000</td>\n",
              "      <td>110516.000000</td>\n",
              "      <td>110516.000000</td>\n",
              "      <td>110516.000000</td>\n",
              "      <td>110516.000000</td>\n",
              "      <td>110516.000000</td>\n",
              "      <td>110516.000000</td>\n",
              "      <td>110516.000000</td>\n",
              "    </tr>\n",
              "    <tr>\n",
              "      <th>mean</th>\n",
              "      <td>10.184272</td>\n",
              "      <td>37.085861</td>\n",
              "      <td>0.098275</td>\n",
              "      <td>0.197257</td>\n",
              "      <td>0.071872</td>\n",
              "      <td>0.030403</td>\n",
              "      <td>0.020223</td>\n",
              "      <td>0.321049</td>\n",
              "    </tr>\n",
              "    <tr>\n",
              "      <th>std</th>\n",
              "      <td>15.255201</td>\n",
              "      <td>23.104465</td>\n",
              "      <td>0.297688</td>\n",
              "      <td>0.397929</td>\n",
              "      <td>0.258277</td>\n",
              "      <td>0.171694</td>\n",
              "      <td>0.140764</td>\n",
              "      <td>0.466882</td>\n",
              "    </tr>\n",
              "    <tr>\n",
              "      <th>min</th>\n",
              "      <td>0.000000</td>\n",
              "      <td>0.000000</td>\n",
              "      <td>0.000000</td>\n",
              "      <td>0.000000</td>\n",
              "      <td>0.000000</td>\n",
              "      <td>0.000000</td>\n",
              "      <td>0.000000</td>\n",
              "      <td>0.000000</td>\n",
              "    </tr>\n",
              "    <tr>\n",
              "      <th>25%</th>\n",
              "      <td>0.000000</td>\n",
              "      <td>18.000000</td>\n",
              "      <td>0.000000</td>\n",
              "      <td>0.000000</td>\n",
              "      <td>0.000000</td>\n",
              "      <td>0.000000</td>\n",
              "      <td>0.000000</td>\n",
              "      <td>0.000000</td>\n",
              "    </tr>\n",
              "    <tr>\n",
              "      <th>50%</th>\n",
              "      <td>4.000000</td>\n",
              "      <td>37.000000</td>\n",
              "      <td>0.000000</td>\n",
              "      <td>0.000000</td>\n",
              "      <td>0.000000</td>\n",
              "      <td>0.000000</td>\n",
              "      <td>0.000000</td>\n",
              "      <td>0.000000</td>\n",
              "    </tr>\n",
              "    <tr>\n",
              "      <th>75%</th>\n",
              "      <td>15.000000</td>\n",
              "      <td>55.000000</td>\n",
              "      <td>0.000000</td>\n",
              "      <td>0.000000</td>\n",
              "      <td>0.000000</td>\n",
              "      <td>0.000000</td>\n",
              "      <td>0.000000</td>\n",
              "      <td>1.000000</td>\n",
              "    </tr>\n",
              "    <tr>\n",
              "      <th>max</th>\n",
              "      <td>179.000000</td>\n",
              "      <td>102.000000</td>\n",
              "      <td>1.000000</td>\n",
              "      <td>1.000000</td>\n",
              "      <td>1.000000</td>\n",
              "      <td>1.000000</td>\n",
              "      <td>1.000000</td>\n",
              "      <td>1.000000</td>\n",
              "    </tr>\n",
              "  </tbody>\n",
              "</table>\n",
              "</div>"
            ],
            "text/plain": [
              "       time_until_visit            Age    Scholarship   Hypertension  \\\n",
              "count     110516.000000  110516.000000  110516.000000  110516.000000   \n",
              "mean          10.184272      37.085861       0.098275       0.197257   \n",
              "std           15.255201      23.104465       0.297688       0.397929   \n",
              "min            0.000000       0.000000       0.000000       0.000000   \n",
              "25%            0.000000      18.000000       0.000000       0.000000   \n",
              "50%            4.000000      37.000000       0.000000       0.000000   \n",
              "75%           15.000000      55.000000       0.000000       0.000000   \n",
              "max          179.000000     102.000000       1.000000       1.000000   \n",
              "\n",
              "            Diabetes     Alcoholism       Handicap    SMSReceived  \n",
              "count  110516.000000  110516.000000  110516.000000  110516.000000  \n",
              "mean        0.071872       0.030403       0.020223       0.321049  \n",
              "std         0.258277       0.171694       0.140764       0.466882  \n",
              "min         0.000000       0.000000       0.000000       0.000000  \n",
              "25%         0.000000       0.000000       0.000000       0.000000  \n",
              "50%         0.000000       0.000000       0.000000       0.000000  \n",
              "75%         0.000000       0.000000       0.000000       1.000000  \n",
              "max         1.000000       1.000000       1.000000       1.000000  "
            ]
          },
          "metadata": {},
          "execution_count": 348
        }
      ]
    },
    {
      "cell_type": "markdown",
      "metadata": {
        "id": "5vwthkqaLzn0"
      },
      "source": [
        "Visit and Gender are encoded for better results.. **0** means **NO** **1** means **Yes**, for Gender **0** **Female** and **1** for **male**"
      ]
    },
    {
      "cell_type": "code",
      "metadata": {
        "id": "xaXyxpMPIE9m"
      },
      "source": [
        "# from sklearn.preprocessing import LabelEncoder \n",
        "# labelencoder= LabelEncoder()\n",
        "# df.visit = labelencoder.fit_transform(df.visit) \n",
        "# df.Gender = labelencoder.fit_transform(df.Gender) "
      ],
      "execution_count": 218,
      "outputs": []
    },
    {
      "cell_type": "markdown",
      "metadata": {
        "id": "PDZ6uqkODx_V"
      },
      "source": [
        "Now time to make some plot to investigate more..."
      ]
    },
    {
      "cell_type": "markdown",
      "metadata": {
        "id": "1rBIHZ4lz0XP"
      },
      "source": [
        "##**Part 3**"
      ]
    },
    {
      "cell_type": "markdown",
      "metadata": {
        "id": "KoQsKH4fzlQK"
      },
      "source": [
        "### **Data Visulaization**"
      ]
    },
    {
      "cell_type": "code",
      "metadata": {
        "colab": {
          "base_uri": "https://localhost:8080/",
          "height": 712
        },
        "id": "GES1gJyC0Ddl",
        "outputId": "b042ade8-623e-495b-b549-0fda23f526ef"
      },
      "source": [
        "plt.figure(figsize=(12,12))\n",
        "correlation = df.corr()\n",
        "sns.heatmap(correlation, vmax=.8, cbar=True, annot=True, square=True, fmt='.2f', annot_kws={'size': 10});"
      ],
      "execution_count": 284,
      "outputs": [
        {
          "output_type": "display_data",
          "data": {
            "image/png": "[encoded data removed]",
            "text/plain": [
              "<Figure size 864x864 with 2 Axes>"
            ]
          },
          "metadata": {}
        }
      ]
    },
    {
      "cell_type": "markdown",
      "metadata": {
        "id": "uDbClqwSOFl2"
      },
      "source": [
        "From this plot I can see that some strong relationships between features like time until visit and smsreceived many features except for sms_received and time until visit or between some other features like Hypertension and Age but for our EDA we need just to figure out these inctences when modlling as it will be not a good features (together) for the target value(visit)."
      ]
    },
    {
      "cell_type": "markdown",
      "metadata": {
        "id": "2huGmPU4GUBn"
      },
      "source": [
        "\n",
        "\n",
        "---\n",
        "\n"
      ]
    },
    {
      "cell_type": "code",
      "metadata": {
        "id": "WqlqJbK_0DUD",
        "colab": {
          "base_uri": "https://localhost:8080/",
          "height": 295
        },
        "outputId": "7e3a3eca-8df5-4d96-b9d7-740352cf616b"
      },
      "source": [
        "ax = sns.countplot(x=df.Gender, hue=df.visit, data=df)\n",
        "ax.set_title(\"visit/Novisit for Females and Males\")\n",
        "x_ticks_labels=['Female', 'Male']\n",
        "ax.set_xticklabels(x_ticks_labels)\n",
        "plt.show()"
      ],
      "execution_count": 313,
      "outputs": [
        {
          "output_type": "display_data",
          "data": {
            "image/png": "[encoded data removed]",
            "text/plain": [
              "<Figure size 432x288 with 1 Axes>"
            ]
          },
          "metadata": {}
        }
      ]
    },
    {
      "cell_type": "markdown",
      "metadata": {
        "id": "hpDWUppFO-zY"
      },
      "source": [
        "From the above visualization we can clearly see that 'Female' patients usually have more appointments that 'Male' patients. But if we closely look at the visit distribution across Male and Female it is almost the same. So, Gender may not play an important role in determining if a patient comes for a visit or not."
      ]
    },
    {
      "cell_type": "code",
      "metadata": {
        "colab": {
          "base_uri": "https://localhost:8080/",
          "height": 295
        },
        "id": "c7lD7tvfHAGW",
        "outputId": "b5970ead-7ec3-4077-e561-72d7d8be3a3f"
      },
      "source": [
        "ax = sns.countplot(x=df.Hypertension, hue=df.visit, data=df)\n",
        "ax.set_title(\"visit/Novisit for Hypertension\")\n",
        "x_ticks_labels=['No Hypertension', 'Hypertension']\n",
        "ax.set_xticklabels(x_ticks_labels)\n",
        "plt.show()"
      ],
      "execution_count": 40,
      "outputs": [
        {
          "output_type": "display_data",
          "data": {
            "image/png": "[encoded data removed]",
            "text/plain": [
              "<Figure size 432x288 with 1 Axes>"
            ]
          },
          "metadata": {
            "needs_background": "light"
          }
        }
      ]
    },
    {
      "cell_type": "markdown",
      "metadata": {
        "id": "5oUiXFpjQq76"
      },
      "source": [
        "Hypertension shows that number of no hypertension that didn't come is larger but feels the same proprtion."
      ]
    },
    {
      "cell_type": "code",
      "metadata": {
        "colab": {
          "base_uri": "https://localhost:8080/",
          "height": 295
        },
        "id": "80Usz-6z0DNq",
        "outputId": "c04cba87-45a5-4555-b3bf-3c6967c1843b"
      },
      "source": [
        "ax = sns.countplot(x=df.Handicap, hue=df.visit, data=df)\n",
        "ax.set_title(\"visit/Novisit for Handicap\")\n",
        "x_ticks_labels=['No Handicap', 'Handicap']\n",
        "ax.set_xticklabels(x_ticks_labels)\n",
        "plt.show()"
      ],
      "execution_count": 295,
      "outputs": [
        {
          "output_type": "display_data",
          "data": {
            "image/png": "[encoded data removed]",
            "text/plain": [
              "<Figure size 432x288 with 1 Axes>"
            ]
          },
          "metadata": {}
        }
      ]
    },
    {
      "cell_type": "markdown",
      "metadata": {
        "id": "mOxjJb6dSL5M"
      },
      "source": [
        "Handicap features after editing it with has Handicap or not as boolean shows that no one with Handicap came to visit.. good feature too I reckon"
      ]
    },
    {
      "cell_type": "code",
      "metadata": {
        "colab": {
          "base_uri": "https://localhost:8080/",
          "height": 295
        },
        "id": "AWYNglxWQeQ-",
        "outputId": "cfa50359-738d-4d1b-b24a-59c5366425d2"
      },
      "source": [
        "ax = sns.countplot(x=df.SMSReceived, hue=df.visit, data=df)\n",
        "ax.set_title(\"visit/Novisit for SMSReceived\")\n",
        "x_ticks_labels=['No SMSReceived', 'SMSReceived']\n",
        "ax.set_xticklabels(x_ticks_labels)\n",
        "plt.show()"
      ],
      "execution_count": 316,
      "outputs": [
        {
          "output_type": "display_data",
          "data": {
            "image/png": "[encoded data removed]",
            "text/plain": [
              "<Figure size 432x288 with 1 Axes>"
            ]
          },
          "metadata": {}
        }
      ]
    },
    {
      "cell_type": "markdown",
      "metadata": {
        "id": "5NqAa5JESIHj"
      },
      "source": [
        "**As can be seen the SMSReceived has a good indication that people who don't recieve the sms are more likely to not come by a larg portion. It is one of the good features..**"
      ]
    },
    {
      "cell_type": "code",
      "metadata": {
        "colab": {
          "base_uri": "https://localhost:8080/",
          "height": 295
        },
        "id": "bkofC91xQ4vK",
        "outputId": "ac3f16e2-e744-4d12-bfcb-325db31333a9"
      },
      "source": [
        "ax = sns.countplot(x=df.Alcoholism, hue=df.visit, data=df)\n",
        "ax.set_title(\"visit/Novisit for Alcoholism\")\n",
        "x_ticks_labels=['No Alcoholism', 'Alcoholism']\n",
        "ax.set_xticklabels(x_ticks_labels)\n",
        "plt.show()"
      ],
      "execution_count": 317,
      "outputs": [
        {
          "output_type": "display_data",
          "data": {
            "image/png": "[encoded data removed]",
            "text/plain": [
              "<Figure size 432x288 with 1 Axes>"
            ]
          },
          "metadata": {}
        }
      ]
    },
    {
      "cell_type": "code",
      "metadata": {
        "colab": {
          "base_uri": "https://localhost:8080/",
          "height": 839
        },
        "id": "96dd6Gp20CwT",
        "outputId": "13de401e-ab25-4055-d446-97068a929c0f"
      },
      "source": [
        "plt.figure(figsize=(10,14))\n",
        "ax = sns.countplot(y=df.time_until_visit, hue=df.visit, order=df.time_until_visit.value_counts().iloc[:25].index)\n",
        "ax.set_title(\"visit/Novisit Count for time that between ScheduledDay and AppointmentDay in Days \")\n",
        "plt.show()"
      ],
      "execution_count": 304,
      "outputs": [
        {
          "output_type": "display_data",
          "data": {
            "image/png": "[encoded data removed]",
            "text/plain": [
              "<Figure size 720x1008 with 1 Axes>"
            ]
          },
          "metadata": {}
        }
      ]
    },
    {
      "cell_type": "markdown",
      "metadata": {
        "id": "Wa901Tm_V3cR"
      },
      "source": [
        "It is clear that patients who had their appointement in the same day for some reasons didn't come... I think they had to wait for longer time in hours.. the longer the time to visit, less numbers of patients would be keen on thier appointments.."
      ]
    },
    {
      "cell_type": "markdown",
      "metadata": {
        "id": "cEuONU6SVGSJ"
      },
      "source": [
        "# **conclusion**:    \n",
        "###  Some Features Have a good relation when modelling from the visual graphs such as Handicap, Alcoholism, SMSReceived, and Age that could help us when using aolgrithms but needed further analysis with some feature engineering.\n",
        "\n",
        "Thanks"
      ]
    }
  ]
}